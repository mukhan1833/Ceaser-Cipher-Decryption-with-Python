{
 "cells": [
  {
   "cell_type": "code",
   "execution_count": 5,
   "id": "cd5901cb",
   "metadata": {},
   "outputs": [
    {
     "name": "stdout",
     "output_type": "stream",
     "text": [
      "ENTER THE CIPHER TEXT FOR DECRYPTION: HELLO WORLD\n",
      "HELLO WORLD\n",
      "**********************************************\n",
      "G D K K N V N Q K C\n",
      "F C J J M U M P J B\n",
      "E B I I L T L O I A\n",
      "D A H H K S K N H Z\n",
      "C Z G G J R J M G Y\n",
      "B Y F F I Q I L F X\n",
      "A X E E H P H K E W\n",
      "Z W D D G O G J D V\n",
      "Y V C C F N F I C U\n",
      "X U B B E M E H B T\n",
      "W T A A D L D G A S\n",
      "V S Z Z C K C F Z R\n",
      "U R Y Y B J B E Y Q\n",
      "T Q X X A I A D X P\n",
      "S P W W Z H Z C W O\n",
      "R O V V Y G Y B V N\n",
      "Q N U U X F X A U M\n",
      "P M T T W E W Z T L\n",
      "O L S S V D V Y S K\n",
      "N K R R U C U X R J\n",
      "M J Q Q T B T W Q I\n",
      "L I P P S A S V P H\n",
      "K H O O R Z R U O G\n",
      "J G N N Q Y Q T N F\n",
      "I F M M P X P S M E\n"
     ]
    }
   ],
   "source": [
    "alphabets=\"A B C D E F G H I J K L M N O P Q R S T U V W X Y Z\"\n",
    "arr=input(\"ENTER THE CIPHER TEXT FOR DECRYPTION: \")\n",
    "print(arr)\n",
    "print(\"**********************************************\")\n",
    "def decrpt(alphabets,arr):\n",
    "    li=list(alphabets.split(\" \"))\n",
    "    arr=arr.replace(\" \", \"\")\n",
    "    li2=list(arr)   \n",
    "    for v in range(25):\n",
    "        for x in range(len(li2)):\n",
    "            for y in range(0,len(li)):\n",
    "                if(li2[x]==li[y]):\n",
    "                    if(y==0):\n",
    "                        y=26\n",
    "                        y=y-1\n",
    "                        li2[x]=li[y]\n",
    "                        break\n",
    "                    else:\n",
    "                        y=y-1\n",
    "                        li2[x]=li[y]\n",
    "                        break\n",
    "        listToStr = ' '.join(map(str, li2))        \n",
    "        print(listToStr)\n",
    "decrpt(alphabets,arr)\n"
   ]
  },
  {
   "cell_type": "code",
   "execution_count": null,
   "id": "bb576007",
   "metadata": {},
   "outputs": [],
   "source": []
  },
  {
   "cell_type": "code",
   "execution_count": null,
   "id": "ba34658d",
   "metadata": {},
   "outputs": [],
   "source": []
  }
 ],
 "metadata": {
  "kernelspec": {
   "display_name": "Python 3 (ipykernel)",
   "language": "python",
   "name": "python3"
  },
  "language_info": {
   "codemirror_mode": {
    "name": "ipython",
    "version": 3
   },
   "file_extension": ".py",
   "mimetype": "text/x-python",
   "name": "python",
   "nbconvert_exporter": "python",
   "pygments_lexer": "ipython3",
   "version": "3.9.7"
  }
 },
 "nbformat": 4,
 "nbformat_minor": 5
}
